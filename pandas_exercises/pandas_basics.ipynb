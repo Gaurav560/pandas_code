{
 "cells": [
  {
   "cell_type": "code",
   "id": "initial_id",
   "metadata": {
    "collapsed": true,
    "ExecuteTime": {
     "end_time": "2024-10-12T21:56:58.753811Z",
     "start_time": "2024-10-12T21:56:58.747739Z"
    }
   },
   "source": "print(\"hi my name is soldier boy.\")",
   "outputs": [
    {
     "name": "stdout",
     "output_type": "stream",
     "text": [
      "hi my name is soldier boy.\n"
     ]
    }
   ],
   "execution_count": 1
  },
  {
   "metadata": {
    "ExecuteTime": {
     "end_time": "2024-10-12T22:32:10.013097Z",
     "start_time": "2024-10-12T22:32:10.008709Z"
    }
   },
   "cell_type": "code",
   "source": [
    "#import numpy library\n",
    "import numpy as np\n",
    "lst=[1,2,3,4,5]\n",
    "arr=np.array(lst)\n",
    "print(arr)\n",
    "print(type(arr))\n",
    "print(arr.shape)\n"
   ],
   "id": "72f34a3723f71e49",
   "outputs": [
    {
     "name": "stdout",
     "output_type": "stream",
     "text": [
      "[1 2 3 4 5]\n",
      "<class 'numpy.ndarray'>\n",
      "(5,)\n"
     ]
    }
   ],
   "execution_count": 5
  },
  {
   "metadata": {
    "ExecuteTime": {
     "end_time": "2024-10-12T22:34:53.273877Z",
     "start_time": "2024-10-12T22:34:53.252813Z"
    }
   },
   "cell_type": "code",
   "source": [
    "lst1=[1,2,3,4,5]\n",
    "lst2=[2,3,4,5,6]\n",
    "lst3=[9,7,6,5,4]\n",
    "arr1=np.array([lst1,lst2,lst3])\n",
    "print(arr1)\n",
    "print(arr1.shape)\n",
    "print(type(arr1))\n",
    "print(type(lst1))"
   ],
   "id": "86b17d28339e2484",
   "outputs": [
    {
     "name": "stdout",
     "output_type": "stream",
     "text": [
      "[[1 2 3 4 5]\n",
      " [2 3 4 5 6]\n",
      " [9 7 6 5 4]]\n",
      "(3, 5)\n",
      "<class 'numpy.ndarray'>\n",
      "<class 'list'>\n"
     ]
    }
   ],
   "execution_count": 8
  },
  {
   "metadata": {},
   "cell_type": "markdown",
   "source": "##Numpy Full name is Numerical Python",
   "id": "73aadb4d57f42015"
  }
 ],
 "metadata": {
  "kernelspec": {
   "display_name": "Python 3",
   "language": "python",
   "name": "python3"
  },
  "language_info": {
   "codemirror_mode": {
    "name": "ipython",
    "version": 2
   },
   "file_extension": ".py",
   "mimetype": "text/x-python",
   "name": "python",
   "nbconvert_exporter": "python",
   "pygments_lexer": "ipython2",
   "version": "2.7.6"
  }
 },
 "nbformat": 4,
 "nbformat_minor": 5
}
